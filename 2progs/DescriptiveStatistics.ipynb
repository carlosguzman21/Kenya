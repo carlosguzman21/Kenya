{
 "cells": [
  {
   "cell_type": "code",
   "execution_count": 1,
   "metadata": {},
   "outputs": [],
   "source": [
    "import numpy as np\n",
    "import pandas as pd\n",
    "import seaborn as sns\n",
    "import matplotlib.pyplot as plt\n",
    "%matplotlib inline"
   ]
  },
  {
   "cell_type": "code",
   "execution_count": 2,
   "metadata": {},
   "outputs": [],
   "source": [
    "MergedDatasetsRenamed = pd.read_excel('../2progs/MergedDatasetsRenamed.xlsx',sheet_name='Sheet1',index_col = 0)"
   ]
  },
  {
   "cell_type": "code",
   "execution_count": 3,
   "metadata": {},
   "outputs": [
    {
     "data": {
      "text/html": [
       "<div>\n",
       "<style scoped>\n",
       "    .dataframe tbody tr th:only-of-type {\n",
       "        vertical-align: middle;\n",
       "    }\n",
       "\n",
       "    .dataframe tbody tr th {\n",
       "        vertical-align: top;\n",
       "    }\n",
       "\n",
       "    .dataframe thead th {\n",
       "        text-align: right;\n",
       "    }\n",
       "</style>\n",
       "<table border=\"1\" class=\"dataframe\">\n",
       "  <thead>\n",
       "    <tr style=\"text-align: right;\">\n",
       "      <th></th>\n",
       "      <th>hhid</th>\n",
       "      <th>s1q2_x</th>\n",
       "      <th>spend_tuitionfees</th>\n",
       "      <th>spend_textbooks</th>\n",
       "      <th>spend_exercisebooks</th>\n",
       "      <th>spend_schooluniform</th>\n",
       "      <th>spend_schoolboardingfees</th>\n",
       "      <th>spend_schooltransport</th>\n",
       "      <th>spend_extratuition</th>\n",
       "      <th>spend_PTA</th>\n",
       "      <th>...</th>\n",
       "      <th>hh_con</th>\n",
       "      <th>hh_con2011</th>\n",
       "      <th>hh_con2011_pd</th>\n",
       "      <th>pline_ipl</th>\n",
       "      <th>poorIPL</th>\n",
       "      <th>pgi</th>\n",
       "      <th>spg</th>\n",
       "      <th>weight_y.1</th>\n",
       "      <th>popweight</th>\n",
       "      <th>Dataset2</th>\n",
       "    </tr>\n",
       "  </thead>\n",
       "  <tbody>\n",
       "    <tr>\n",
       "      <th>0</th>\n",
       "      <td>10</td>\n",
       "      <td>Village 1</td>\n",
       "      <td>0.0</td>\n",
       "      <td>0.0</td>\n",
       "      <td>2400.0</td>\n",
       "      <td>0.0</td>\n",
       "      <td>6000.0</td>\n",
       "      <td>3000.0</td>\n",
       "      <td>2000.000061</td>\n",
       "      <td>0.0</td>\n",
       "      <td>...</td>\n",
       "      <td>4679.5698</td>\n",
       "      <td>82.80928</td>\n",
       "      <td>2.722497</td>\n",
       "      <td>1.9</td>\n",
       "      <td>Non-poor</td>\n",
       "      <td>0.0</td>\n",
       "      <td>0.0</td>\n",
       "      <td>5.557169</td>\n",
       "      <td>27.785843</td>\n",
       "      <td>Household</td>\n",
       "    </tr>\n",
       "    <tr>\n",
       "      <th>1</th>\n",
       "      <td>10</td>\n",
       "      <td>Village 1</td>\n",
       "      <td>0.0</td>\n",
       "      <td>0.0</td>\n",
       "      <td>2400.0</td>\n",
       "      <td>0.0</td>\n",
       "      <td>6000.0</td>\n",
       "      <td>3000.0</td>\n",
       "      <td>2000.000061</td>\n",
       "      <td>0.0</td>\n",
       "      <td>...</td>\n",
       "      <td>4679.5698</td>\n",
       "      <td>82.80928</td>\n",
       "      <td>2.722497</td>\n",
       "      <td>1.9</td>\n",
       "      <td>Non-poor</td>\n",
       "      <td>0.0</td>\n",
       "      <td>0.0</td>\n",
       "      <td>5.557169</td>\n",
       "      <td>27.785843</td>\n",
       "      <td>Household</td>\n",
       "    </tr>\n",
       "    <tr>\n",
       "      <th>2</th>\n",
       "      <td>10</td>\n",
       "      <td>Village 1</td>\n",
       "      <td>0.0</td>\n",
       "      <td>0.0</td>\n",
       "      <td>2400.0</td>\n",
       "      <td>0.0</td>\n",
       "      <td>6000.0</td>\n",
       "      <td>3000.0</td>\n",
       "      <td>2000.000061</td>\n",
       "      <td>0.0</td>\n",
       "      <td>...</td>\n",
       "      <td>4679.5698</td>\n",
       "      <td>82.80928</td>\n",
       "      <td>2.722497</td>\n",
       "      <td>1.9</td>\n",
       "      <td>Non-poor</td>\n",
       "      <td>0.0</td>\n",
       "      <td>0.0</td>\n",
       "      <td>5.557169</td>\n",
       "      <td>27.785843</td>\n",
       "      <td>Household</td>\n",
       "    </tr>\n",
       "    <tr>\n",
       "      <th>3</th>\n",
       "      <td>10</td>\n",
       "      <td>Village 1</td>\n",
       "      <td>0.0</td>\n",
       "      <td>0.0</td>\n",
       "      <td>2400.0</td>\n",
       "      <td>0.0</td>\n",
       "      <td>6000.0</td>\n",
       "      <td>3000.0</td>\n",
       "      <td>2000.000061</td>\n",
       "      <td>0.0</td>\n",
       "      <td>...</td>\n",
       "      <td>4679.5698</td>\n",
       "      <td>82.80928</td>\n",
       "      <td>2.722497</td>\n",
       "      <td>1.9</td>\n",
       "      <td>Non-poor</td>\n",
       "      <td>0.0</td>\n",
       "      <td>0.0</td>\n",
       "      <td>5.557169</td>\n",
       "      <td>27.785843</td>\n",
       "      <td>Household</td>\n",
       "    </tr>\n",
       "    <tr>\n",
       "      <th>4</th>\n",
       "      <td>10</td>\n",
       "      <td>Village 1</td>\n",
       "      <td>0.0</td>\n",
       "      <td>0.0</td>\n",
       "      <td>2400.0</td>\n",
       "      <td>0.0</td>\n",
       "      <td>6000.0</td>\n",
       "      <td>3000.0</td>\n",
       "      <td>2000.000061</td>\n",
       "      <td>0.0</td>\n",
       "      <td>...</td>\n",
       "      <td>4679.5698</td>\n",
       "      <td>82.80928</td>\n",
       "      <td>2.722497</td>\n",
       "      <td>1.9</td>\n",
       "      <td>Non-poor</td>\n",
       "      <td>0.0</td>\n",
       "      <td>0.0</td>\n",
       "      <td>5.557169</td>\n",
       "      <td>27.785843</td>\n",
       "      <td>Household</td>\n",
       "    </tr>\n",
       "  </tbody>\n",
       "</table>\n",
       "<p>5 rows × 144 columns</p>\n",
       "</div>"
      ],
      "text/plain": [
       "   hhid     s1q2_x  spend_tuitionfees  spend_textbooks  spend_exercisebooks  \\\n",
       "0    10  Village 1                0.0              0.0               2400.0   \n",
       "1    10  Village 1                0.0              0.0               2400.0   \n",
       "2    10  Village 1                0.0              0.0               2400.0   \n",
       "3    10  Village 1                0.0              0.0               2400.0   \n",
       "4    10  Village 1                0.0              0.0               2400.0   \n",
       "\n",
       "   spend_schooluniform  spend_schoolboardingfees  spend_schooltransport  \\\n",
       "0                  0.0                    6000.0                 3000.0   \n",
       "1                  0.0                    6000.0                 3000.0   \n",
       "2                  0.0                    6000.0                 3000.0   \n",
       "3                  0.0                    6000.0                 3000.0   \n",
       "4                  0.0                    6000.0                 3000.0   \n",
       "\n",
       "   spend_extratuition  spend_PTA  ...     hh_con  hh_con2011  hh_con2011_pd  \\\n",
       "0         2000.000061        0.0  ...  4679.5698    82.80928       2.722497   \n",
       "1         2000.000061        0.0  ...  4679.5698    82.80928       2.722497   \n",
       "2         2000.000061        0.0  ...  4679.5698    82.80928       2.722497   \n",
       "3         2000.000061        0.0  ...  4679.5698    82.80928       2.722497   \n",
       "4         2000.000061        0.0  ...  4679.5698    82.80928       2.722497   \n",
       "\n",
       "   pline_ipl   poorIPL  pgi  spg  weight_y.1  popweight   Dataset2  \n",
       "0        1.9  Non-poor  0.0  0.0    5.557169  27.785843  Household  \n",
       "1        1.9  Non-poor  0.0  0.0    5.557169  27.785843  Household  \n",
       "2        1.9  Non-poor  0.0  0.0    5.557169  27.785843  Household  \n",
       "3        1.9  Non-poor  0.0  0.0    5.557169  27.785843  Household  \n",
       "4        1.9  Non-poor  0.0  0.0    5.557169  27.785843  Household  \n",
       "\n",
       "[5 rows x 144 columns]"
      ]
     },
     "execution_count": 3,
     "metadata": {},
     "output_type": "execute_result"
    }
   ],
   "source": [
    "MergedDatasetsRenamed.head(5)"
   ]
  },
  {
   "cell_type": "code",
   "execution_count": 4,
   "metadata": {},
   "outputs": [],
   "source": [
    "Energy = pd.DataFrame(MergedDatasetsRenamed, columns= ['hhsize_x','s1q2_y', 'totalcost_purchasedfirewood', 'totalcosts_collectedfirewood',\n",
    "                                                      'totalcost_farmresidue', 'totalcost_wood/processwaste', 'totalcost_charcoal',\n",
    "                                                      'totalcost_kerosene/paraffin', 'totalcost_lpg', 'totalcost_electricity',\n",
    "                                                      'totalcost_petrol', 'totalcost_diesel'])"
   ]
  },
  {
   "cell_type": "code",
   "execution_count": 5,
   "metadata": {},
   "outputs": [],
   "source": [
    "Education =  pd.DataFrame(MergedDatasetsRenamed, columns= ['hhsize_x', 's1q2_y','spend_tuitionfees', 'spend_textbooks', 'spend_exercisebooks',\n",
    "                                                         'spend_schooluniform', 'spend_schoolboardingfees', 'spend_schooltransport',\n",
    "                                                         'spend_extratuition', 'spend_PTA', 'spend_pocketmoney', 'spend_cautionmoney',\n",
    "                                                          'spend_educmedicalfee', 'spend_activityfees', 'spend_examfees', 'spend_educfeedingprogram',\n",
    "                                                          \n",
    "                                                    'spend_othereduccharges'])"
   ]
  },
  {
   "cell_type": "code",
   "execution_count": 33,
   "metadata": {},
   "outputs": [
    {
     "data": {
      "text/html": [
       "<div>\n",
       "<style scoped>\n",
       "    .dataframe tbody tr th:only-of-type {\n",
       "        vertical-align: middle;\n",
       "    }\n",
       "\n",
       "    .dataframe tbody tr th {\n",
       "        vertical-align: top;\n",
       "    }\n",
       "\n",
       "    .dataframe thead th {\n",
       "        text-align: right;\n",
       "    }\n",
       "</style>\n",
       "<table border=\"1\" class=\"dataframe\">\n",
       "  <thead>\n",
       "    <tr style=\"text-align: right;\">\n",
       "      <th></th>\n",
       "      <th>hhsize_x</th>\n",
       "      <th>s1q2_y</th>\n",
       "      <th>spend_tuitionfees</th>\n",
       "      <th>spend_textbooks</th>\n",
       "      <th>spend_exercisebooks</th>\n",
       "      <th>spend_schooluniform</th>\n",
       "      <th>spend_schoolboardingfees</th>\n",
       "      <th>spend_schooltransport</th>\n",
       "      <th>spend_extratuition</th>\n",
       "      <th>spend_PTA</th>\n",
       "      <th>spend_pocketmoney</th>\n",
       "      <th>spend_cautionmoney</th>\n",
       "      <th>spend_educmedicalfee</th>\n",
       "      <th>spend_activityfees</th>\n",
       "      <th>spend_examfees</th>\n",
       "      <th>spend_educfeedingprogram</th>\n",
       "      <th>spend_othereduccharges</th>\n",
       "    </tr>\n",
       "  </thead>\n",
       "  <tbody>\n",
       "    <tr>\n",
       "      <th>0</th>\n",
       "      <td>5</td>\n",
       "      <td>Village 1</td>\n",
       "      <td>0.0</td>\n",
       "      <td>0.0</td>\n",
       "      <td>2400.0</td>\n",
       "      <td>0.0</td>\n",
       "      <td>6000.0</td>\n",
       "      <td>3000.0</td>\n",
       "      <td>2000.000061</td>\n",
       "      <td>0.0</td>\n",
       "      <td>2000.000061</td>\n",
       "      <td>1500.0</td>\n",
       "      <td>1399.999969</td>\n",
       "      <td>799.99997</td>\n",
       "      <td>0.0</td>\n",
       "      <td>0.0</td>\n",
       "      <td>0.0</td>\n",
       "    </tr>\n",
       "    <tr>\n",
       "      <th>1</th>\n",
       "      <td>5</td>\n",
       "      <td>Village 1</td>\n",
       "      <td>0.0</td>\n",
       "      <td>0.0</td>\n",
       "      <td>2400.0</td>\n",
       "      <td>0.0</td>\n",
       "      <td>6000.0</td>\n",
       "      <td>3000.0</td>\n",
       "      <td>2000.000061</td>\n",
       "      <td>0.0</td>\n",
       "      <td>2000.000061</td>\n",
       "      <td>1500.0</td>\n",
       "      <td>1399.999969</td>\n",
       "      <td>799.99997</td>\n",
       "      <td>0.0</td>\n",
       "      <td>0.0</td>\n",
       "      <td>0.0</td>\n",
       "    </tr>\n",
       "    <tr>\n",
       "      <th>2</th>\n",
       "      <td>5</td>\n",
       "      <td>Village 1</td>\n",
       "      <td>0.0</td>\n",
       "      <td>0.0</td>\n",
       "      <td>2400.0</td>\n",
       "      <td>0.0</td>\n",
       "      <td>6000.0</td>\n",
       "      <td>3000.0</td>\n",
       "      <td>2000.000061</td>\n",
       "      <td>0.0</td>\n",
       "      <td>2000.000061</td>\n",
       "      <td>1500.0</td>\n",
       "      <td>1399.999969</td>\n",
       "      <td>799.99997</td>\n",
       "      <td>0.0</td>\n",
       "      <td>0.0</td>\n",
       "      <td>0.0</td>\n",
       "    </tr>\n",
       "    <tr>\n",
       "      <th>3</th>\n",
       "      <td>5</td>\n",
       "      <td>Village 1</td>\n",
       "      <td>0.0</td>\n",
       "      <td>0.0</td>\n",
       "      <td>2400.0</td>\n",
       "      <td>0.0</td>\n",
       "      <td>6000.0</td>\n",
       "      <td>3000.0</td>\n",
       "      <td>2000.000061</td>\n",
       "      <td>0.0</td>\n",
       "      <td>2000.000061</td>\n",
       "      <td>1500.0</td>\n",
       "      <td>1399.999969</td>\n",
       "      <td>799.99997</td>\n",
       "      <td>0.0</td>\n",
       "      <td>0.0</td>\n",
       "      <td>0.0</td>\n",
       "    </tr>\n",
       "    <tr>\n",
       "      <th>4</th>\n",
       "      <td>5</td>\n",
       "      <td>Village 1</td>\n",
       "      <td>0.0</td>\n",
       "      <td>0.0</td>\n",
       "      <td>2400.0</td>\n",
       "      <td>0.0</td>\n",
       "      <td>6000.0</td>\n",
       "      <td>3000.0</td>\n",
       "      <td>2000.000061</td>\n",
       "      <td>0.0</td>\n",
       "      <td>2000.000061</td>\n",
       "      <td>1500.0</td>\n",
       "      <td>1399.999969</td>\n",
       "      <td>799.99997</td>\n",
       "      <td>0.0</td>\n",
       "      <td>0.0</td>\n",
       "      <td>0.0</td>\n",
       "    </tr>\n",
       "  </tbody>\n",
       "</table>\n",
       "</div>"
      ],
      "text/plain": [
       "   hhsize_x     s1q2_y  spend_tuitionfees  spend_textbooks  \\\n",
       "0         5  Village 1                0.0              0.0   \n",
       "1         5  Village 1                0.0              0.0   \n",
       "2         5  Village 1                0.0              0.0   \n",
       "3         5  Village 1                0.0              0.0   \n",
       "4         5  Village 1                0.0              0.0   \n",
       "\n",
       "   spend_exercisebooks  spend_schooluniform  spend_schoolboardingfees  \\\n",
       "0               2400.0                  0.0                    6000.0   \n",
       "1               2400.0                  0.0                    6000.0   \n",
       "2               2400.0                  0.0                    6000.0   \n",
       "3               2400.0                  0.0                    6000.0   \n",
       "4               2400.0                  0.0                    6000.0   \n",
       "\n",
       "   spend_schooltransport  spend_extratuition  spend_PTA  spend_pocketmoney  \\\n",
       "0                 3000.0         2000.000061        0.0        2000.000061   \n",
       "1                 3000.0         2000.000061        0.0        2000.000061   \n",
       "2                 3000.0         2000.000061        0.0        2000.000061   \n",
       "3                 3000.0         2000.000061        0.0        2000.000061   \n",
       "4                 3000.0         2000.000061        0.0        2000.000061   \n",
       "\n",
       "   spend_cautionmoney  spend_educmedicalfee  spend_activityfees  \\\n",
       "0              1500.0           1399.999969           799.99997   \n",
       "1              1500.0           1399.999969           799.99997   \n",
       "2              1500.0           1399.999969           799.99997   \n",
       "3              1500.0           1399.999969           799.99997   \n",
       "4              1500.0           1399.999969           799.99997   \n",
       "\n",
       "   spend_examfees  spend_educfeedingprogram  spend_othereduccharges  \n",
       "0             0.0                       0.0                     0.0  \n",
       "1             0.0                       0.0                     0.0  \n",
       "2             0.0                       0.0                     0.0  \n",
       "3             0.0                       0.0                     0.0  \n",
       "4             0.0                       0.0                     0.0  "
      ]
     },
     "execution_count": 33,
     "metadata": {},
     "output_type": "execute_result"
    }
   ],
   "source": [
    "Education.head(5)"
   ]
  },
  {
   "cell_type": "code",
   "execution_count": 42,
   "metadata": {},
   "outputs": [],
   "source": [
    "Education['Education_totalspend'] = Education[['spend_tuitionfees', 'spend_textbooks', 'spend_exercisebooks', 'spend_schooluniform', 'spend_schoolboardingfees', 'spend_schooltransport', 'spend_extratuition', 'spend_PTA', 'spend_pocketmoney', 'spend_cautionmoney', 'spend_educmedicalfee', 'spend_activityfees', 'spend_examfees', 'spend_educfeedingprogram', 'spend_othereduccharges']].sum(axis = 1)"
   ]
  },
  {
   "cell_type": "code",
   "execution_count": 11,
   "metadata": {},
   "outputs": [
    {
     "data": {
      "text/html": [
       "<div>\n",
       "<style scoped>\n",
       "    .dataframe tbody tr th:only-of-type {\n",
       "        vertical-align: middle;\n",
       "    }\n",
       "\n",
       "    .dataframe tbody tr th {\n",
       "        vertical-align: top;\n",
       "    }\n",
       "\n",
       "    .dataframe thead th {\n",
       "        text-align: right;\n",
       "    }\n",
       "</style>\n",
       "<table border=\"1\" class=\"dataframe\">\n",
       "  <thead>\n",
       "    <tr style=\"text-align: right;\">\n",
       "      <th></th>\n",
       "      <th>hhsize_x</th>\n",
       "      <th>s1q2_y</th>\n",
       "      <th>totalcost_purchasedfirewood</th>\n",
       "      <th>totalcosts_collectedfirewood</th>\n",
       "      <th>totalcost_farmresidue</th>\n",
       "      <th>totalcost_wood/processwaste</th>\n",
       "      <th>totalcost_charcoal</th>\n",
       "      <th>totalcost_kerosene/paraffin</th>\n",
       "      <th>totalcost_lpg</th>\n",
       "      <th>totalcost_electricity</th>\n",
       "      <th>totalcost_petrol</th>\n",
       "      <th>totalcost_diesel</th>\n",
       "    </tr>\n",
       "  </thead>\n",
       "  <tbody>\n",
       "    <tr>\n",
       "      <th>0</th>\n",
       "      <td>5</td>\n",
       "      <td>Village 1</td>\n",
       "      <td>250.0</td>\n",
       "      <td>NaN</td>\n",
       "      <td>NaN</td>\n",
       "      <td>0.0</td>\n",
       "      <td>750.0</td>\n",
       "      <td>NaN</td>\n",
       "      <td>NaN</td>\n",
       "      <td>NaN</td>\n",
       "      <td>NaN</td>\n",
       "      <td>NaN</td>\n",
       "    </tr>\n",
       "    <tr>\n",
       "      <th>1</th>\n",
       "      <td>5</td>\n",
       "      <td>Village 1</td>\n",
       "      <td>250.0</td>\n",
       "      <td>NaN</td>\n",
       "      <td>NaN</td>\n",
       "      <td>0.0</td>\n",
       "      <td>750.0</td>\n",
       "      <td>NaN</td>\n",
       "      <td>NaN</td>\n",
       "      <td>NaN</td>\n",
       "      <td>NaN</td>\n",
       "      <td>NaN</td>\n",
       "    </tr>\n",
       "    <tr>\n",
       "      <th>2</th>\n",
       "      <td>5</td>\n",
       "      <td>Village 1</td>\n",
       "      <td>250.0</td>\n",
       "      <td>NaN</td>\n",
       "      <td>NaN</td>\n",
       "      <td>0.0</td>\n",
       "      <td>750.0</td>\n",
       "      <td>NaN</td>\n",
       "      <td>NaN</td>\n",
       "      <td>NaN</td>\n",
       "      <td>NaN</td>\n",
       "      <td>NaN</td>\n",
       "    </tr>\n",
       "    <tr>\n",
       "      <th>3</th>\n",
       "      <td>5</td>\n",
       "      <td>Village 1</td>\n",
       "      <td>250.0</td>\n",
       "      <td>NaN</td>\n",
       "      <td>NaN</td>\n",
       "      <td>0.0</td>\n",
       "      <td>750.0</td>\n",
       "      <td>NaN</td>\n",
       "      <td>NaN</td>\n",
       "      <td>NaN</td>\n",
       "      <td>NaN</td>\n",
       "      <td>NaN</td>\n",
       "    </tr>\n",
       "    <tr>\n",
       "      <th>4</th>\n",
       "      <td>5</td>\n",
       "      <td>Village 1</td>\n",
       "      <td>250.0</td>\n",
       "      <td>NaN</td>\n",
       "      <td>NaN</td>\n",
       "      <td>0.0</td>\n",
       "      <td>750.0</td>\n",
       "      <td>NaN</td>\n",
       "      <td>NaN</td>\n",
       "      <td>NaN</td>\n",
       "      <td>NaN</td>\n",
       "      <td>NaN</td>\n",
       "    </tr>\n",
       "  </tbody>\n",
       "</table>\n",
       "</div>"
      ],
      "text/plain": [
       "   hhsize_x     s1q2_y  totalcost_purchasedfirewood  \\\n",
       "0         5  Village 1                        250.0   \n",
       "1         5  Village 1                        250.0   \n",
       "2         5  Village 1                        250.0   \n",
       "3         5  Village 1                        250.0   \n",
       "4         5  Village 1                        250.0   \n",
       "\n",
       "   totalcosts_collectedfirewood  totalcost_farmresidue  \\\n",
       "0                           NaN                    NaN   \n",
       "1                           NaN                    NaN   \n",
       "2                           NaN                    NaN   \n",
       "3                           NaN                    NaN   \n",
       "4                           NaN                    NaN   \n",
       "\n",
       "   totalcost_wood/processwaste  totalcost_charcoal  \\\n",
       "0                          0.0               750.0   \n",
       "1                          0.0               750.0   \n",
       "2                          0.0               750.0   \n",
       "3                          0.0               750.0   \n",
       "4                          0.0               750.0   \n",
       "\n",
       "   totalcost_kerosene/paraffin  totalcost_lpg  totalcost_electricity  \\\n",
       "0                          NaN            NaN                    NaN   \n",
       "1                          NaN            NaN                    NaN   \n",
       "2                          NaN            NaN                    NaN   \n",
       "3                          NaN            NaN                    NaN   \n",
       "4                          NaN            NaN                    NaN   \n",
       "\n",
       "   totalcost_petrol  totalcost_diesel  \n",
       "0               NaN               NaN  \n",
       "1               NaN               NaN  \n",
       "2               NaN               NaN  \n",
       "3               NaN               NaN  \n",
       "4               NaN               NaN  "
      ]
     },
     "execution_count": 11,
     "metadata": {},
     "output_type": "execute_result"
    }
   ],
   "source": [
    "Energy.head(5)"
   ]
  },
  {
   "cell_type": "code",
   "execution_count": 27,
   "metadata": {},
   "outputs": [],
   "source": [
    "Energy['Energy_totalspend'] = Energy[['totalcost_purchasedfirewood', 'totalcosts_collectedfirewood', 'totalcost_farmresidue', 'totalcost_wood/processwaste', 'totalcost_charcoal', 'totalcost_kerosene/paraffin', 'totalcost_lpg', 'totalcost_electricity', 'totalcost_petrol', 'totalcost_diesel']].sum(axis = 1)"
   ]
  },
  {
   "cell_type": "code",
   "execution_count": 29,
   "metadata": {},
   "outputs": [
    {
     "data": {
      "text/plain": [
       "0    1000.0\n",
       "1    1000.0\n",
       "2    1000.0\n",
       "3    1000.0\n",
       "4    1000.0\n",
       "Name: Energy_totalspend, dtype: float64"
      ]
     },
     "execution_count": 29,
     "metadata": {},
     "output_type": "execute_result"
    }
   ],
   "source": [
    "Energy['Energy_totalspend'].head(5)"
   ]
  },
  {
   "cell_type": "code",
   "execution_count": 8,
   "metadata": {},
   "outputs": [
    {
     "data": {
      "text/plain": [
       "hhsize_x\n",
       "1      113.402985\n",
       "2      125.517522\n",
       "3      126.702998\n",
       "4       79.578361\n",
       "5      297.049139\n",
       "6      143.254365\n",
       "7      339.972298\n",
       "8      405.266347\n",
       "9      363.944633\n",
       "10     739.690599\n",
       "11     611.244546\n",
       "12     789.158366\n",
       "13     853.448281\n",
       "14    1168.852480\n",
       "15     247.000001\n",
       "17       0.000000\n",
       "19       0.000000\n",
       "21     199.999998\n",
       "Name: spend_textbooks, dtype: float64"
      ]
     },
     "execution_count": 8,
     "metadata": {},
     "output_type": "execute_result"
    }
   ],
   "source": [
    "Education.groupby('hhsize_x')['spend_textbooks'].mean()"
   ]
  },
  {
   "cell_type": "code",
   "execution_count": 10,
   "metadata": {},
   "outputs": [
    {
     "data": {
      "text/plain": [
       "hhsize_x\n",
       "1     1541\n",
       "2     1227\n",
       "3     1101\n",
       "4     2514\n",
       "5     2571\n",
       "6     2482\n",
       "7     1805\n",
       "8     1652\n",
       "9     1156\n",
       "10     724\n",
       "11     458\n",
       "12     301\n",
       "13     203\n",
       "14     183\n",
       "15     100\n",
       "17      23\n",
       "19      11\n",
       "21      28\n",
       "Name: hhsize_x, dtype: int64"
      ]
     },
     "execution_count": 10,
     "metadata": {},
     "output_type": "execute_result"
    }
   ],
   "source": [
    "Education.groupby('hhsize_x')['hhsize_x'].count()"
   ]
  },
  {
   "cell_type": "code",
   "execution_count": 13,
   "metadata": {},
   "outputs": [
    {
     "data": {
      "text/plain": [
       "s1q2\n",
       "Village 1    323.197902\n",
       "Village 2    341.133186\n",
       "Village 3    143.279537\n",
       "Name: spend_textbooks, dtype: float64"
      ]
     },
     "execution_count": 13,
     "metadata": {},
     "output_type": "execute_result"
    }
   ],
   "source": [
    "Education.groupby('s1q2')['spend_textbooks'].mean()\n",
    "\n",
    "#village 1 spends more on textbooks, village 3 spends significantly less on textbooks"
   ]
  },
  {
   "cell_type": "code",
   "execution_count": 6,
   "metadata": {},
   "outputs": [
    {
     "data": {
      "text/plain": [
       "s1q2\n",
       "Village 1    495.641789\n",
       "Village 2    620.093232\n",
       "Village 3    269.572612\n",
       "Name: spend_tuitionfees, dtype: float64"
      ]
     },
     "execution_count": 6,
     "metadata": {},
     "output_type": "execute_result"
    }
   ],
   "source": [
    "Education.groupby('s1q2')['spend_tuitionfees'].mean()\n",
    "#village 2 spends the most on tuition fees, village 3 still spends significantly less"
   ]
  },
  {
   "cell_type": "code",
   "execution_count": 20,
   "metadata": {},
   "outputs": [
    {
     "data": {
      "text/plain": [
       "hhsize_x                    0\n",
       "s1q2_y                      0\n",
       "spend_tuitionfees           0\n",
       "spend_textbooks             0\n",
       "spend_exercisebooks         0\n",
       "spend_schooluniform         0\n",
       "spend_schoolboardingfees    0\n",
       "spend_schooltransport       0\n",
       "spend_extratuition          0\n",
       "spend_PTA                   0\n",
       "spend_pocketmoney           0\n",
       "spend_cautionmoney          0\n",
       "spend_educmedicalfee        0\n",
       "spend_activityfees          0\n",
       "spend_examfees              0\n",
       "spend_educfeedingprogram    0\n",
       "spend_othereduccharges      0\n",
       "dtype: int64"
      ]
     },
     "execution_count": 20,
     "metadata": {},
     "output_type": "execute_result"
    }
   ],
   "source": [
    "Education.isnull().sum()\n",
    "\n",
    "#no missing values?"
   ]
  },
  {
   "cell_type": "code",
   "execution_count": 31,
   "metadata": {},
   "outputs": [
    {
     "data": {
      "text/plain": [
       "<seaborn.axisgrid.FacetGrid at 0x1a216bf410>"
      ]
     },
     "execution_count": 31,
     "metadata": {},
     "output_type": "execute_result"
    },
    {
     "data": {
      "image/png": "[encoded data removed]",
      "text/plain": [
       "<Figure size 439.625x360 with 1 Axes>"
      ]
     },
     "metadata": {
      "needs_background": "light"
     },
     "output_type": "display_data"
    }
   ],
   "source": [
    "sns.lmplot(x='spend_exercisebooks',y='spend_tuitionfees',data=Education, fit_reg = False, hue = 's1q2')"
   ]
  },
  {
   "cell_type": "code",
   "execution_count": 25,
   "metadata": {},
   "outputs": [
    {
     "data": {
      "text/plain": [
       "<seaborn.axisgrid.FacetGrid at 0x1a21b9ec10>"
      ]
     },
     "execution_count": 25,
     "metadata": {},
     "output_type": "execute_result"
    },
    {
     "data": {
      "image/png": "[encoded data removed]",
      "text/plain": [
       "<Figure size 360x360 with 1 Axes>"
      ]
     },
     "metadata": {
      "needs_background": "light"
     },
     "output_type": "display_data"
    }
   ],
   "source": [
    "sns.catplot(data=Education, orient=\"h\", kind=\"box\")\n",
    "\n",
    "#tuition fees, boarding, transport are significant spend"
   ]
  },
  {
   "cell_type": "code",
   "execution_count": 27,
   "metadata": {},
   "outputs": [
    {
     "data": {
      "text/plain": [
       "hhsize_x                            0\n",
       "s1q2_y                              0\n",
       "totalcost_purchasedfirewood      9815\n",
       "totalcosts_collectedfirewood    18080\n",
       "totalcost_farmresidue           17762\n",
       "totalcost_wood/processwaste     17674\n",
       "totalcost_charcoal               6887\n",
       "totalcost_kerosene/paraffin     17969\n",
       "totalcost_lpg                   18033\n",
       "totalcost_electricity           18080\n",
       "totalcost_petrol                18080\n",
       "totalcost_diesel                18062\n",
       "dtype: int64"
      ]
     },
     "execution_count": 27,
     "metadata": {},
     "output_type": "execute_result"
    }
   ],
   "source": [
    "Energy.isnull().sum()\n",
    "\n",
    "#a lot of null values in energy dataset"
   ]
  },
  {
   "cell_type": "code",
   "execution_count": 28,
   "metadata": {},
   "outputs": [
    {
     "data": {
      "text/plain": [
       "<seaborn.axisgrid.FacetGrid at 0x1a2238a610>"
      ]
     },
     "execution_count": 28,
     "metadata": {},
     "output_type": "execute_result"
    },
    {
     "data": {
      "image/png": "[encoded data removed]",
      "text/plain": [
       "<Figure size 360x360 with 1 Axes>"
      ]
     },
     "metadata": {
      "needs_background": "light"
     },
     "output_type": "display_data"
    }
   ],
   "source": [
    "sns.catplot(data=Energy, orient=\"h\", kind=\"box\")"
   ]
  },
  {
   "cell_type": "code",
   "execution_count": 31,
   "metadata": {},
   "outputs": [
    {
     "data": {
      "text/plain": [
       "s1q2_y\n",
       "Village 1    1600.000000\n",
       "Village 2     352.168675\n",
       "Village 3            NaN\n",
       "Name: totalcost_kerosene/paraffin, dtype: float64"
      ]
     },
     "execution_count": 31,
     "metadata": {},
     "output_type": "execute_result"
    }
   ],
   "source": [
    "Energy.groupby('s1q2_y')['totalcost_kerosene/paraffin'].mean()\n",
    "\n",
    "#no information on total cost of kerosene/paraffin for village 3\n",
    "#village 1 spends significantly more than village 2 on kerosene"
   ]
  },
  {
   "cell_type": "code",
   "execution_count": 35,
   "metadata": {},
   "outputs": [
    {
     "data": {
      "text/plain": [
       "s1q2_y\n",
       "Village 1    375.412142\n",
       "Village 2    356.486635\n",
       "Village 3    362.010003\n",
       "Name: totalcost_charcoal, dtype: float64"
      ]
     },
     "execution_count": 35,
     "metadata": {},
     "output_type": "execute_result"
    }
   ],
   "source": [
    "Energy.groupby('s1q2_y')['totalcost_charcoal'].mean()\n",
    "#spend evenly distributed across villages"
   ]
  },
  {
   "cell_type": "code",
   "execution_count": 36,
   "metadata": {},
   "outputs": [
    {
     "data": {
      "text/plain": [
       "s1q2_y\n",
       "Village 1    247.498587\n",
       "Village 2    239.116486\n",
       "Village 3    237.752684\n",
       "Name: totalcost_purchasedfirewood, dtype: float64"
      ]
     },
     "execution_count": 36,
     "metadata": {},
     "output_type": "execute_result"
    }
   ],
   "source": [
    "Energy.groupby('s1q2_y')['totalcost_purchasedfirewood'].mean()\n",
    "#spend evenly distributed across villages"
   ]
  },
  {
   "cell_type": "code",
   "execution_count": 58,
   "metadata": {},
   "outputs": [
    {
     "data": {
      "text/html": [
       "<div>\n",
       "<style scoped>\n",
       "    .dataframe tbody tr th:only-of-type {\n",
       "        vertical-align: middle;\n",
       "    }\n",
       "\n",
       "    .dataframe tbody tr th {\n",
       "        vertical-align: top;\n",
       "    }\n",
       "\n",
       "    .dataframe thead th {\n",
       "        text-align: right;\n",
       "    }\n",
       "</style>\n",
       "<table border=\"1\" class=\"dataframe\">\n",
       "  <thead>\n",
       "    <tr style=\"text-align: right;\">\n",
       "      <th></th>\n",
       "      <th>s1q2</th>\n",
       "      <th>hh_purchasedfood7d</th>\n",
       "      <th>amountfood_purchased7d</th>\n",
       "      <th>foodwasfree</th>\n",
       "      <th>foodspent_localcurrecny</th>\n",
       "      <th>foodconsumed7d</th>\n",
       "      <th>quantityfood_consumedkg_pc</th>\n",
       "    </tr>\n",
       "  </thead>\n",
       "  <tbody>\n",
       "    <tr>\n",
       "      <th>0</th>\n",
       "      <td>Village 1</td>\n",
       "      <td>Yes</td>\n",
       "      <td>24.0</td>\n",
       "      <td>Yes</td>\n",
       "      <td>1700.0</td>\n",
       "      <td>2.0</td>\n",
       "      <td>0.400000</td>\n",
       "    </tr>\n",
       "    <tr>\n",
       "      <th>1</th>\n",
       "      <td>Village 1</td>\n",
       "      <td>Yes</td>\n",
       "      <td>11.0</td>\n",
       "      <td>Yes</td>\n",
       "      <td>1150.0</td>\n",
       "      <td>1.0</td>\n",
       "      <td>0.200000</td>\n",
       "    </tr>\n",
       "    <tr>\n",
       "      <th>2</th>\n",
       "      <td>Village 1</td>\n",
       "      <td>Yes</td>\n",
       "      <td>2.0</td>\n",
       "      <td>Yes</td>\n",
       "      <td>240.0</td>\n",
       "      <td>7.0</td>\n",
       "      <td>0.392000</td>\n",
       "    </tr>\n",
       "    <tr>\n",
       "      <th>3</th>\n",
       "      <td>Village 1</td>\n",
       "      <td>Yes</td>\n",
       "      <td>400.0</td>\n",
       "      <td>Yes</td>\n",
       "      <td>200.0</td>\n",
       "      <td>10.0</td>\n",
       "      <td>0.002000</td>\n",
       "    </tr>\n",
       "    <tr>\n",
       "      <th>4</th>\n",
       "      <td>Village 1</td>\n",
       "      <td>Yes</td>\n",
       "      <td>1.0</td>\n",
       "      <td>Yes</td>\n",
       "      <td>100.0</td>\n",
       "      <td>1.0</td>\n",
       "      <td>0.100000</td>\n",
       "    </tr>\n",
       "    <tr>\n",
       "      <th>...</th>\n",
       "      <td>...</td>\n",
       "      <td>...</td>\n",
       "      <td>...</td>\n",
       "      <td>...</td>\n",
       "      <td>...</td>\n",
       "      <td>...</td>\n",
       "      <td>...</td>\n",
       "    </tr>\n",
       "    <tr>\n",
       "      <th>18075</th>\n",
       "      <td>Village 3</td>\n",
       "      <td>Yes</td>\n",
       "      <td>1.0</td>\n",
       "      <td>NaN</td>\n",
       "      <td>50.0</td>\n",
       "      <td>NaN</td>\n",
       "      <td>NaN</td>\n",
       "    </tr>\n",
       "    <tr>\n",
       "      <th>18076</th>\n",
       "      <td>Village 3</td>\n",
       "      <td>Yes</td>\n",
       "      <td>2.0</td>\n",
       "      <td>NaN</td>\n",
       "      <td>20.0</td>\n",
       "      <td>NaN</td>\n",
       "      <td>NaN</td>\n",
       "    </tr>\n",
       "    <tr>\n",
       "      <th>18077</th>\n",
       "      <td>Village 3</td>\n",
       "      <td>Yes</td>\n",
       "      <td>1.0</td>\n",
       "      <td>Yes</td>\n",
       "      <td>120.0</td>\n",
       "      <td>1.0</td>\n",
       "      <td>0.083333</td>\n",
       "    </tr>\n",
       "    <tr>\n",
       "      <th>18078</th>\n",
       "      <td>Village 3</td>\n",
       "      <td>Yes</td>\n",
       "      <td>1.0</td>\n",
       "      <td>No</td>\n",
       "      <td>10.0</td>\n",
       "      <td>1.0</td>\n",
       "      <td>0.166667</td>\n",
       "    </tr>\n",
       "    <tr>\n",
       "      <th>18079</th>\n",
       "      <td>Village 3</td>\n",
       "      <td>Yes</td>\n",
       "      <td>24.0</td>\n",
       "      <td>Yes</td>\n",
       "      <td>1850.0</td>\n",
       "      <td>2.0</td>\n",
       "      <td>0.166667</td>\n",
       "    </tr>\n",
       "  </tbody>\n",
       "</table>\n",
       "<p>18080 rows × 7 columns</p>\n",
       "</div>"
      ],
      "text/plain": [
       "            s1q2 hh_purchasedfood7d  amountfood_purchased7d foodwasfree  \\\n",
       "0      Village 1                Yes                    24.0         Yes   \n",
       "1      Village 1                Yes                    11.0         Yes   \n",
       "2      Village 1                Yes                     2.0         Yes   \n",
       "3      Village 1                Yes                   400.0         Yes   \n",
       "4      Village 1                Yes                     1.0         Yes   \n",
       "...          ...                ...                     ...         ...   \n",
       "18075  Village 3                Yes                     1.0         NaN   \n",
       "18076  Village 3                Yes                     2.0         NaN   \n",
       "18077  Village 3                Yes                     1.0         Yes   \n",
       "18078  Village 3                Yes                     1.0          No   \n",
       "18079  Village 3                Yes                    24.0         Yes   \n",
       "\n",
       "       foodspent_localcurrecny  foodconsumed7d  quantityfood_consumedkg_pc  \n",
       "0                       1700.0             2.0                    0.400000  \n",
       "1                       1150.0             1.0                    0.200000  \n",
       "2                        240.0             7.0                    0.392000  \n",
       "3                        200.0            10.0                    0.002000  \n",
       "4                        100.0             1.0                    0.100000  \n",
       "...                        ...             ...                         ...  \n",
       "18075                     50.0             NaN                         NaN  \n",
       "18076                     20.0             NaN                         NaN  \n",
       "18077                    120.0             1.0                    0.083333  \n",
       "18078                     10.0             1.0                    0.166667  \n",
       "18079                   1850.0             2.0                    0.166667  \n",
       "\n",
       "[18080 rows x 7 columns]"
      ]
     },
     "execution_count": 58,
     "metadata": {},
     "output_type": "execute_result"
    }
   ],
   "source": [
    "Food2 = pd.DataFrame(MergedDatasetsRenamed, columns= ['s1q2','hh_purchasedfood7d', 'amountfood_purchased7d', \n",
    "                                                      'foodwasfree','foodspent_localcurrecny', 'foodconsumed7d',\n",
    "                                                     'quantityfood_consumedkg_pc']) \n",
    "Food2"
   ]
  },
  {
   "cell_type": "code",
   "execution_count": 59,
   "metadata": {},
   "outputs": [
    {
     "data": {
      "text/html": [
       "<div>\n",
       "<style scoped>\n",
       "    .dataframe tbody tr th:only-of-type {\n",
       "        vertical-align: middle;\n",
       "    }\n",
       "\n",
       "    .dataframe tbody tr th {\n",
       "        vertical-align: top;\n",
       "    }\n",
       "\n",
       "    .dataframe thead th {\n",
       "        text-align: right;\n",
       "    }\n",
       "</style>\n",
       "<table border=\"1\" class=\"dataframe\">\n",
       "  <thead>\n",
       "    <tr style=\"text-align: right;\">\n",
       "      <th></th>\n",
       "      <th>amountfood_purchased7d</th>\n",
       "      <th>foodspent_localcurrecny</th>\n",
       "      <th>foodconsumed7d</th>\n",
       "      <th>quantityfood_consumedkg_pc</th>\n",
       "    </tr>\n",
       "  </thead>\n",
       "  <tbody>\n",
       "    <tr>\n",
       "      <th>count</th>\n",
       "      <td>14557.000000</td>\n",
       "      <td>15074.000000</td>\n",
       "      <td>15379.000000</td>\n",
       "      <td>15498.000000</td>\n",
       "    </tr>\n",
       "    <tr>\n",
       "      <th>mean</th>\n",
       "      <td>43.201819</td>\n",
       "      <td>396.447658</td>\n",
       "      <td>32.160851</td>\n",
       "      <td>0.520312</td>\n",
       "    </tr>\n",
       "    <tr>\n",
       "      <th>std</th>\n",
       "      <td>404.407432</td>\n",
       "      <td>553.982411</td>\n",
       "      <td>170.127047</td>\n",
       "      <td>0.795757</td>\n",
       "    </tr>\n",
       "    <tr>\n",
       "      <th>min</th>\n",
       "      <td>0.000000</td>\n",
       "      <td>0.000000</td>\n",
       "      <td>0.002000</td>\n",
       "      <td>0.000067</td>\n",
       "    </tr>\n",
       "    <tr>\n",
       "      <th>25%</th>\n",
       "      <td>1.000000</td>\n",
       "      <td>60.000000</td>\n",
       "      <td>1.000000</td>\n",
       "      <td>0.116667</td>\n",
       "    </tr>\n",
       "    <tr>\n",
       "      <th>50%</th>\n",
       "      <td>3.000000</td>\n",
       "      <td>195.000000</td>\n",
       "      <td>2.000000</td>\n",
       "      <td>0.262500</td>\n",
       "    </tr>\n",
       "    <tr>\n",
       "      <th>75%</th>\n",
       "      <td>10.000000</td>\n",
       "      <td>500.000000</td>\n",
       "      <td>5.000000</td>\n",
       "      <td>0.625000</td>\n",
       "    </tr>\n",
       "    <tr>\n",
       "      <th>max</th>\n",
       "      <td>40000.000000</td>\n",
       "      <td>8500.000000</td>\n",
       "      <td>5000.000000</td>\n",
       "      <td>17.500000</td>\n",
       "    </tr>\n",
       "  </tbody>\n",
       "</table>\n",
       "</div>"
      ],
      "text/plain": [
       "       amountfood_purchased7d  foodspent_localcurrecny  foodconsumed7d  \\\n",
       "count            14557.000000             15074.000000    15379.000000   \n",
       "mean                43.201819               396.447658       32.160851   \n",
       "std                404.407432               553.982411      170.127047   \n",
       "min                  0.000000                 0.000000        0.002000   \n",
       "25%                  1.000000                60.000000        1.000000   \n",
       "50%                  3.000000               195.000000        2.000000   \n",
       "75%                 10.000000               500.000000        5.000000   \n",
       "max              40000.000000              8500.000000     5000.000000   \n",
       "\n",
       "       quantityfood_consumedkg_pc  \n",
       "count                15498.000000  \n",
       "mean                     0.520312  \n",
       "std                      0.795757  \n",
       "min                      0.000067  \n",
       "25%                      0.116667  \n",
       "50%                      0.262500  \n",
       "75%                      0.625000  \n",
       "max                     17.500000  "
      ]
     },
     "execution_count": 59,
     "metadata": {},
     "output_type": "execute_result"
    }
   ],
   "source": [
    "Food2.describe()"
   ]
  },
  {
   "cell_type": "code",
   "execution_count": 78,
   "metadata": {},
   "outputs": [
    {
     "data": {
      "text/plain": [
       "s1q2                           123\n",
       "hh_purchasedfood7d               0\n",
       "amountfood_purchased7d        3523\n",
       "foodwasfree                   2582\n",
       "foodspent_localcurrecny       3006\n",
       "foodconsumed7d                2701\n",
       "quantityfood_consumedkg_pc    2582\n",
       "dtype: int64"
      ]
     },
     "execution_count": 78,
     "metadata": {},
     "output_type": "execute_result"
    }
   ],
   "source": [
    "#A ton of missing variables that will need to be cleaned \n",
    "Food2.isnull().sum()"
   ]
  },
  {
   "cell_type": "code",
   "execution_count": 79,
   "metadata": {},
   "outputs": [
    {
     "data": {
      "text/plain": [
       "<matplotlib.axes._subplots.AxesSubplot at 0x122ff6610>"
      ]
     },
     "execution_count": 79,
     "metadata": {},
     "output_type": "execute_result"
    },
    {
     "data": {
      "image/png": "[encoded data removed]",
      "text/plain": [
       "<Figure size 432x288 with 1 Axes>"
      ]
     },
     "metadata": {
      "needs_background": "light"
     },
     "output_type": "display_data"
    }
   ],
   "source": [
    "#Different villages and population \n",
    "sns.countplot(x=\"s1q2\", data= Food2)"
   ]
  },
  {
   "cell_type": "code",
   "execution_count": 61,
   "metadata": {},
   "outputs": [
    {
     "data": {
      "text/plain": [
       "<matplotlib.axes._subplots.AxesSubplot at 0x1218ee400>"
      ]
     },
     "execution_count": 61,
     "metadata": {},
     "output_type": "execute_result"
    },
    {
     "data": {
      "image/png": "[encoded data removed]",
      "text/plain": [
       "<Figure size 432x288 with 1 Axes>"
      ]
     },
     "metadata": {
      "needs_background": "light"
     },
     "output_type": "display_data"
    }
   ],
   "source": [
    "#Village and if food was free which makes sense given the pop in each village \n",
    "sns.countplot(x=\"foodwasfree\", hue=\"s1q2\", data= Food2)"
   ]
  },
  {
   "cell_type": "code",
   "execution_count": 66,
   "metadata": {},
   "outputs": [
    {
     "data": {
      "text/plain": [
       "s1q2\n",
       "Village 1    5823\n",
       "Village 2    4734\n",
       "Village 3    4840\n",
       "Name: foodwasfree, dtype: int64"
      ]
     },
     "execution_count": 66,
     "metadata": {},
     "output_type": "execute_result"
    }
   ],
   "source": [
    "#Count of food was free and village \n",
    "Food2.groupby('s1q2')['foodwasfree'].count()"
   ]
  },
  {
   "cell_type": "code",
   "execution_count": 97,
   "metadata": {},
   "outputs": [
    {
     "data": {
      "text/plain": [
       "s1q2\n",
       "Village 1    353.817565\n",
       "Village 2    396.826923\n",
       "Village 3    435.119354\n",
       "Name: foodspent_localcurrecny, dtype: float64"
      ]
     },
     "execution_count": 97,
     "metadata": {},
     "output_type": "execute_result"
    }
   ],
   "source": [
    "#Amount Spent on food by village using local currency\n",
    "Food2.groupby('s1q2')['foodspent_localcurrecny'].mean()"
   ]
  },
  {
   "cell_type": "code",
   "execution_count": null,
   "metadata": {},
   "outputs": [],
   "source": []
  },
  {
   "cell_type": "code",
   "execution_count": 15,
   "metadata": {},
   "outputs": [
    {
     "data": {
      "text/plain": [
       "<seaborn.axisgrid.FacetGrid at 0x12055a640>"
      ]
     },
     "execution_count": 15,
     "metadata": {},
     "output_type": "execute_result"
    },
    {
     "data": {
      "image/png": "[encoded data removed]",
      "text/plain": [
       "<Figure size 360x360 with 1 Axes>"
      ]
     },
     "metadata": {
      "needs_background": "light"
     },
     "output_type": "display_data"
    }
   ],
   "source": [
    "#Box plot that basically shows nothing. Need to get rid of that outlier? \n",
    "sns.catplot(data=Food2, orient=\"h\", kind=\"box\")"
   ]
  },
  {
   "cell_type": "code",
   "execution_count": 35,
   "metadata": {},
   "outputs": [
    {
     "data": {
      "text/plain": [
       "<seaborn.axisgrid.FacetGrid at 0x12303c1f0>"
      ]
     },
     "execution_count": 35,
     "metadata": {},
     "output_type": "execute_result"
    },
    {
     "data": {
      "image/png": "[encoded data removed]",
      "text/plain": [
       "<Figure size 360x360 with 1 Axes>"
      ]
     },
     "metadata": {
      "needs_background": "light"
     },
     "output_type": "display_data"
    }
   ],
   "source": [
    "#Count of numeric variables \n",
    "sns.catplot(data= Food2,orient=\"h\", kind=\"bar\")"
   ]
  },
  {
   "cell_type": "code",
   "execution_count": 30,
   "metadata": {},
   "outputs": [
    {
     "data": {
      "text/html": [
       "<div>\n",
       "<style scoped>\n",
       "    .dataframe tbody tr th:only-of-type {\n",
       "        vertical-align: middle;\n",
       "    }\n",
       "\n",
       "    .dataframe tbody tr th {\n",
       "        vertical-align: top;\n",
       "    }\n",
       "\n",
       "    .dataframe thead th {\n",
       "        text-align: right;\n",
       "    }\n",
       "</style>\n",
       "<table border=\"1\" class=\"dataframe\">\n",
       "  <thead>\n",
       "    <tr style=\"text-align: right;\">\n",
       "      <th></th>\n",
       "      <th>s1q2</th>\n",
       "      <th>number_dwellings</th>\n",
       "      <th>number_habitablerooms</th>\n",
       "      <th>floor_material</th>\n",
       "      <th>roof_material</th>\n",
       "      <th>wall_material</th>\n",
       "      <th>drikingwater_source</th>\n",
       "      <th>drinkingwater_insufficientquanities</th>\n",
       "      <th>toilet_type</th>\n",
       "      <th>share_toilet</th>\n",
       "      <th>...</th>\n",
       "      <th>sellhhgoods_lackfood</th>\n",
       "      <th>healthandeduc_reduction</th>\n",
       "      <th>sellassets_lackfood</th>\n",
       "      <th>spendsavings:lackfood</th>\n",
       "      <th>borrowmoneyfood_lackfood</th>\n",
       "      <th>sellhouseland_lackfood</th>\n",
       "      <th>withdrawchildrenschool_lackfood</th>\n",
       "      <th>sellanimals:lackfood</th>\n",
       "      <th>sellfemaleanimal_last</th>\n",
       "      <th>beg_lackfood</th>\n",
       "    </tr>\n",
       "  </thead>\n",
       "  <tbody>\n",
       "    <tr>\n",
       "      <th>0</th>\n",
       "      <td>Village 1</td>\n",
       "      <td>2</td>\n",
       "      <td>2</td>\n",
       "      <td>Earth / Sand</td>\n",
       "      <td>Corrugated iron sheets</td>\n",
       "      <td>Plastic or tent material</td>\n",
       "      <td>Public tap / Stand pipe</td>\n",
       "      <td>Yes</td>\n",
       "      <td>Flush to somewhere else</td>\n",
       "      <td>Yes</td>\n",
       "      <td>...</td>\n",
       "      <td>Yes</td>\n",
       "      <td>No</td>\n",
       "      <td>Yes</td>\n",
       "      <td>No</td>\n",
       "      <td>Yes</td>\n",
       "      <td>No</td>\n",
       "      <td>No</td>\n",
       "      <td>No</td>\n",
       "      <td>No</td>\n",
       "      <td>No</td>\n",
       "    </tr>\n",
       "    <tr>\n",
       "      <th>1</th>\n",
       "      <td>Village 1</td>\n",
       "      <td>2</td>\n",
       "      <td>2</td>\n",
       "      <td>Earth / Sand</td>\n",
       "      <td>Corrugated iron sheets</td>\n",
       "      <td>Plastic or tent material</td>\n",
       "      <td>Public tap / Stand pipe</td>\n",
       "      <td>Yes</td>\n",
       "      <td>Flush to somewhere else</td>\n",
       "      <td>Yes</td>\n",
       "      <td>...</td>\n",
       "      <td>Yes</td>\n",
       "      <td>No</td>\n",
       "      <td>Yes</td>\n",
       "      <td>No</td>\n",
       "      <td>Yes</td>\n",
       "      <td>No</td>\n",
       "      <td>No</td>\n",
       "      <td>No</td>\n",
       "      <td>No</td>\n",
       "      <td>No</td>\n",
       "    </tr>\n",
       "    <tr>\n",
       "      <th>2</th>\n",
       "      <td>Village 1</td>\n",
       "      <td>2</td>\n",
       "      <td>2</td>\n",
       "      <td>Earth / Sand</td>\n",
       "      <td>Corrugated iron sheets</td>\n",
       "      <td>Plastic or tent material</td>\n",
       "      <td>Public tap / Stand pipe</td>\n",
       "      <td>Yes</td>\n",
       "      <td>Flush to somewhere else</td>\n",
       "      <td>Yes</td>\n",
       "      <td>...</td>\n",
       "      <td>Yes</td>\n",
       "      <td>No</td>\n",
       "      <td>Yes</td>\n",
       "      <td>No</td>\n",
       "      <td>Yes</td>\n",
       "      <td>No</td>\n",
       "      <td>No</td>\n",
       "      <td>No</td>\n",
       "      <td>No</td>\n",
       "      <td>No</td>\n",
       "    </tr>\n",
       "    <tr>\n",
       "      <th>3</th>\n",
       "      <td>Village 1</td>\n",
       "      <td>2</td>\n",
       "      <td>2</td>\n",
       "      <td>Earth / Sand</td>\n",
       "      <td>Corrugated iron sheets</td>\n",
       "      <td>Plastic or tent material</td>\n",
       "      <td>Public tap / Stand pipe</td>\n",
       "      <td>Yes</td>\n",
       "      <td>Flush to somewhere else</td>\n",
       "      <td>Yes</td>\n",
       "      <td>...</td>\n",
       "      <td>Yes</td>\n",
       "      <td>No</td>\n",
       "      <td>Yes</td>\n",
       "      <td>No</td>\n",
       "      <td>Yes</td>\n",
       "      <td>No</td>\n",
       "      <td>No</td>\n",
       "      <td>No</td>\n",
       "      <td>No</td>\n",
       "      <td>No</td>\n",
       "    </tr>\n",
       "    <tr>\n",
       "      <th>4</th>\n",
       "      <td>Village 1</td>\n",
       "      <td>2</td>\n",
       "      <td>2</td>\n",
       "      <td>Earth / Sand</td>\n",
       "      <td>Corrugated iron sheets</td>\n",
       "      <td>Plastic or tent material</td>\n",
       "      <td>Public tap / Stand pipe</td>\n",
       "      <td>Yes</td>\n",
       "      <td>Flush to somewhere else</td>\n",
       "      <td>Yes</td>\n",
       "      <td>...</td>\n",
       "      <td>Yes</td>\n",
       "      <td>No</td>\n",
       "      <td>Yes</td>\n",
       "      <td>No</td>\n",
       "      <td>Yes</td>\n",
       "      <td>No</td>\n",
       "      <td>No</td>\n",
       "      <td>No</td>\n",
       "      <td>No</td>\n",
       "      <td>No</td>\n",
       "    </tr>\n",
       "    <tr>\n",
       "      <th>...</th>\n",
       "      <td>...</td>\n",
       "      <td>...</td>\n",
       "      <td>...</td>\n",
       "      <td>...</td>\n",
       "      <td>...</td>\n",
       "      <td>...</td>\n",
       "      <td>...</td>\n",
       "      <td>...</td>\n",
       "      <td>...</td>\n",
       "      <td>...</td>\n",
       "      <td>...</td>\n",
       "      <td>...</td>\n",
       "      <td>...</td>\n",
       "      <td>...</td>\n",
       "      <td>...</td>\n",
       "      <td>...</td>\n",
       "      <td>...</td>\n",
       "      <td>...</td>\n",
       "      <td>...</td>\n",
       "      <td>...</td>\n",
       "      <td>...</td>\n",
       "    </tr>\n",
       "    <tr>\n",
       "      <th>18075</th>\n",
       "      <td>Village 3</td>\n",
       "      <td>2</td>\n",
       "      <td>2</td>\n",
       "      <td>Earth / Sand</td>\n",
       "      <td>Corrugated iron sheets</td>\n",
       "      <td>Plastic or tent material</td>\n",
       "      <td>Public tap / Stand pipe</td>\n",
       "      <td>Yes</td>\n",
       "      <td>No facility / Bush / Field</td>\n",
       "      <td>NaN</td>\n",
       "      <td>...</td>\n",
       "      <td>No</td>\n",
       "      <td>No</td>\n",
       "      <td>No</td>\n",
       "      <td>No</td>\n",
       "      <td>No</td>\n",
       "      <td>No</td>\n",
       "      <td>No</td>\n",
       "      <td>No</td>\n",
       "      <td>No</td>\n",
       "      <td>No</td>\n",
       "    </tr>\n",
       "    <tr>\n",
       "      <th>18076</th>\n",
       "      <td>Village 3</td>\n",
       "      <td>2</td>\n",
       "      <td>2</td>\n",
       "      <td>Earth / Sand</td>\n",
       "      <td>Corrugated iron sheets</td>\n",
       "      <td>Plastic or tent material</td>\n",
       "      <td>Public tap / Stand pipe</td>\n",
       "      <td>Yes</td>\n",
       "      <td>No facility / Bush / Field</td>\n",
       "      <td>NaN</td>\n",
       "      <td>...</td>\n",
       "      <td>No</td>\n",
       "      <td>No</td>\n",
       "      <td>No</td>\n",
       "      <td>No</td>\n",
       "      <td>No</td>\n",
       "      <td>No</td>\n",
       "      <td>No</td>\n",
       "      <td>No</td>\n",
       "      <td>No</td>\n",
       "      <td>No</td>\n",
       "    </tr>\n",
       "    <tr>\n",
       "      <th>18077</th>\n",
       "      <td>Village 3</td>\n",
       "      <td>2</td>\n",
       "      <td>2</td>\n",
       "      <td>Earth / Sand</td>\n",
       "      <td>Corrugated iron sheets</td>\n",
       "      <td>Plastic or tent material</td>\n",
       "      <td>Public tap / Stand pipe</td>\n",
       "      <td>Yes</td>\n",
       "      <td>No facility / Bush / Field</td>\n",
       "      <td>NaN</td>\n",
       "      <td>...</td>\n",
       "      <td>No</td>\n",
       "      <td>No</td>\n",
       "      <td>No</td>\n",
       "      <td>No</td>\n",
       "      <td>No</td>\n",
       "      <td>No</td>\n",
       "      <td>No</td>\n",
       "      <td>No</td>\n",
       "      <td>No</td>\n",
       "      <td>No</td>\n",
       "    </tr>\n",
       "    <tr>\n",
       "      <th>18078</th>\n",
       "      <td>Village 3</td>\n",
       "      <td>2</td>\n",
       "      <td>2</td>\n",
       "      <td>Earth / Sand</td>\n",
       "      <td>Corrugated iron sheets</td>\n",
       "      <td>Plastic or tent material</td>\n",
       "      <td>Public tap / Stand pipe</td>\n",
       "      <td>Yes</td>\n",
       "      <td>No facility / Bush / Field</td>\n",
       "      <td>NaN</td>\n",
       "      <td>...</td>\n",
       "      <td>No</td>\n",
       "      <td>No</td>\n",
       "      <td>No</td>\n",
       "      <td>No</td>\n",
       "      <td>No</td>\n",
       "      <td>No</td>\n",
       "      <td>No</td>\n",
       "      <td>No</td>\n",
       "      <td>No</td>\n",
       "      <td>No</td>\n",
       "    </tr>\n",
       "    <tr>\n",
       "      <th>18079</th>\n",
       "      <td>Village 3</td>\n",
       "      <td>2</td>\n",
       "      <td>2</td>\n",
       "      <td>Earth / Sand</td>\n",
       "      <td>Corrugated iron sheets</td>\n",
       "      <td>Plastic or tent material</td>\n",
       "      <td>Public tap / Stand pipe</td>\n",
       "      <td>Yes</td>\n",
       "      <td>No facility / Bush / Field</td>\n",
       "      <td>NaN</td>\n",
       "      <td>...</td>\n",
       "      <td>No</td>\n",
       "      <td>No</td>\n",
       "      <td>No</td>\n",
       "      <td>No</td>\n",
       "      <td>No</td>\n",
       "      <td>No</td>\n",
       "      <td>No</td>\n",
       "      <td>No</td>\n",
       "      <td>No</td>\n",
       "      <td>No</td>\n",
       "    </tr>\n",
       "  </tbody>\n",
       "</table>\n",
       "<p>18080 rows × 53 columns</p>\n",
       "</div>"
      ],
      "text/plain": [
       "            s1q2  number_dwellings  number_habitablerooms floor_material  \\\n",
       "0      Village 1                 2                      2   Earth / Sand   \n",
       "1      Village 1                 2                      2   Earth / Sand   \n",
       "2      Village 1                 2                      2   Earth / Sand   \n",
       "3      Village 1                 2                      2   Earth / Sand   \n",
       "4      Village 1                 2                      2   Earth / Sand   \n",
       "...          ...               ...                    ...            ...   \n",
       "18075  Village 3                 2                      2   Earth / Sand   \n",
       "18076  Village 3                 2                      2   Earth / Sand   \n",
       "18077  Village 3                 2                      2   Earth / Sand   \n",
       "18078  Village 3                 2                      2   Earth / Sand   \n",
       "18079  Village 3                 2                      2   Earth / Sand   \n",
       "\n",
       "                roof_material             wall_material  \\\n",
       "0      Corrugated iron sheets  Plastic or tent material   \n",
       "1      Corrugated iron sheets  Plastic or tent material   \n",
       "2      Corrugated iron sheets  Plastic or tent material   \n",
       "3      Corrugated iron sheets  Plastic or tent material   \n",
       "4      Corrugated iron sheets  Plastic or tent material   \n",
       "...                       ...                       ...   \n",
       "18075  Corrugated iron sheets  Plastic or tent material   \n",
       "18076  Corrugated iron sheets  Plastic or tent material   \n",
       "18077  Corrugated iron sheets  Plastic or tent material   \n",
       "18078  Corrugated iron sheets  Plastic or tent material   \n",
       "18079  Corrugated iron sheets  Plastic or tent material   \n",
       "\n",
       "           drikingwater_source drinkingwater_insufficientquanities  \\\n",
       "0      Public tap / Stand pipe                                 Yes   \n",
       "1      Public tap / Stand pipe                                 Yes   \n",
       "2      Public tap / Stand pipe                                 Yes   \n",
       "3      Public tap / Stand pipe                                 Yes   \n",
       "4      Public tap / Stand pipe                                 Yes   \n",
       "...                        ...                                 ...   \n",
       "18075  Public tap / Stand pipe                                 Yes   \n",
       "18076  Public tap / Stand pipe                                 Yes   \n",
       "18077  Public tap / Stand pipe                                 Yes   \n",
       "18078  Public tap / Stand pipe                                 Yes   \n",
       "18079  Public tap / Stand pipe                                 Yes   \n",
       "\n",
       "                      toilet_type share_toilet  ... sellhhgoods_lackfood  \\\n",
       "0         Flush to somewhere else          Yes  ...                  Yes   \n",
       "1         Flush to somewhere else          Yes  ...                  Yes   \n",
       "2         Flush to somewhere else          Yes  ...                  Yes   \n",
       "3         Flush to somewhere else          Yes  ...                  Yes   \n",
       "4         Flush to somewhere else          Yes  ...                  Yes   \n",
       "...                           ...          ...  ...                  ...   \n",
       "18075  No facility / Bush / Field          NaN  ...                   No   \n",
       "18076  No facility / Bush / Field          NaN  ...                   No   \n",
       "18077  No facility / Bush / Field          NaN  ...                   No   \n",
       "18078  No facility / Bush / Field          NaN  ...                   No   \n",
       "18079  No facility / Bush / Field          NaN  ...                   No   \n",
       "\n",
       "      healthandeduc_reduction  sellassets_lackfood spendsavings:lackfood  \\\n",
       "0                          No                  Yes                    No   \n",
       "1                          No                  Yes                    No   \n",
       "2                          No                  Yes                    No   \n",
       "3                          No                  Yes                    No   \n",
       "4                          No                  Yes                    No   \n",
       "...                       ...                  ...                   ...   \n",
       "18075                      No                   No                    No   \n",
       "18076                      No                   No                    No   \n",
       "18077                      No                   No                    No   \n",
       "18078                      No                   No                    No   \n",
       "18079                      No                   No                    No   \n",
       "\n",
       "      borrowmoneyfood_lackfood sellhouseland_lackfood  \\\n",
       "0                          Yes                     No   \n",
       "1                          Yes                     No   \n",
       "2                          Yes                     No   \n",
       "3                          Yes                     No   \n",
       "4                          Yes                     No   \n",
       "...                        ...                    ...   \n",
       "18075                       No                     No   \n",
       "18076                       No                     No   \n",
       "18077                       No                     No   \n",
       "18078                       No                     No   \n",
       "18079                       No                     No   \n",
       "\n",
       "      withdrawchildrenschool_lackfood sellanimals:lackfood  \\\n",
       "0                                  No                   No   \n",
       "1                                  No                   No   \n",
       "2                                  No                   No   \n",
       "3                                  No                   No   \n",
       "4                                  No                   No   \n",
       "...                               ...                  ...   \n",
       "18075                              No                   No   \n",
       "18076                              No                   No   \n",
       "18077                              No                   No   \n",
       "18078                              No                   No   \n",
       "18079                              No                   No   \n",
       "\n",
       "      sellfemaleanimal_last beg_lackfood  \n",
       "0                        No           No  \n",
       "1                        No           No  \n",
       "2                        No           No  \n",
       "3                        No           No  \n",
       "4                        No           No  \n",
       "...                     ...          ...  \n",
       "18075                    No           No  \n",
       "18076                    No           No  \n",
       "18077                    No           No  \n",
       "18078                    No           No  \n",
       "18079                    No           No  \n",
       "\n",
       "[18080 rows x 53 columns]"
      ]
     },
     "execution_count": 30,
     "metadata": {},
     "output_type": "execute_result"
    }
   ],
   "source": [
    "Household2 = pd.DataFrame(MergedDatasetsRenamed, columns= [\"s1q2\", \"number_dwellings\",\"number_habitablerooms\", \n",
    "                          \"floor_material\", \"roof_material\", \"wall_material\",\n",
    "                          \"drikingwater_source\", \"drinkingwater_insufficientquanities\", \n",
    "                          \"toilet_type\", \"share_toilet\", \"lighting_source\", \n",
    "                           \"payrent_dwelling\", \"rentpaid_shillings\", \"own_radio\",\n",
    "                          \"own_television\", \"own_satelitedish\", \"own_smartphone\",\n",
    "                          \"own_refrigerator\",  \"own_table\", \"own_bed\", \"own_mattress\", \n",
    "                         \"own_mosquitonet\", \"own_fan\", \"own_bicycle\", \"own_motorcycle\", \n",
    "                        \"own_car\", \"own_generator\", \"own_solarpanels\", \"own_kerosenestove\",\n",
    "                          \"own_charcoaljiko\", \"own_wheelbarrow\",\"own_ironfencing\", \n",
    "                          \"own_farmanimals\",\"relatives_abroad\",\"relatives_outsidekenya\", \n",
    "                          \"own_bankaccount\",\"borrowedfrom_sources12mo\", \"borrowedfrom_bank12mo\", \n",
    "                          \"borrowedfrom_community\", \"borrowedfrom_familyorfriends12mo\", \"remittances_abroad\", \n",
    "                         \"purchased_insurance\", \"childunder5_death5yrs\", \"sellhhgoods_lackfood\", \n",
    "                           \"healthandeduc_reduction\",  \"sellassets_lackfood\",  \"spendsavings:lackfood\", \n",
    "                          \"borrowmoneyfood_lackfood\", \"sellhouseland_lackfood\", \"withdrawchildrenschool_lackfood\", \n",
    "                         \"sellanimals:lackfood\", \"sellfemaleanimal_last\", \"beg_lackfood\"]) \n",
    "Household2"
   ]
  },
  {
   "cell_type": "code",
   "execution_count": 102,
   "metadata": {
    "scrolled": true
   },
   "outputs": [
    {
     "data": {
      "text/html": [
       "<div>\n",
       "<style scoped>\n",
       "    .dataframe tbody tr th:only-of-type {\n",
       "        vertical-align: middle;\n",
       "    }\n",
       "\n",
       "    .dataframe tbody tr th {\n",
       "        vertical-align: top;\n",
       "    }\n",
       "\n",
       "    .dataframe thead th {\n",
       "        text-align: right;\n",
       "    }\n",
       "</style>\n",
       "<table border=\"1\" class=\"dataframe\">\n",
       "  <thead>\n",
       "    <tr style=\"text-align: right;\">\n",
       "      <th></th>\n",
       "      <th>number_dwellings</th>\n",
       "      <th>number_habitablerooms</th>\n",
       "      <th>rentpaid_shillings</th>\n",
       "    </tr>\n",
       "  </thead>\n",
       "  <tbody>\n",
       "    <tr>\n",
       "      <th>count</th>\n",
       "      <td>18080.000000</td>\n",
       "      <td>18080.000000</td>\n",
       "      <td>18080.0</td>\n",
       "    </tr>\n",
       "    <tr>\n",
       "      <th>mean</th>\n",
       "      <td>1.322400</td>\n",
       "      <td>1.398451</td>\n",
       "      <td>0.0</td>\n",
       "    </tr>\n",
       "    <tr>\n",
       "      <th>std</th>\n",
       "      <td>0.557136</td>\n",
       "      <td>0.667266</td>\n",
       "      <td>0.0</td>\n",
       "    </tr>\n",
       "    <tr>\n",
       "      <th>min</th>\n",
       "      <td>1.000000</td>\n",
       "      <td>1.000000</td>\n",
       "      <td>0.0</td>\n",
       "    </tr>\n",
       "    <tr>\n",
       "      <th>25%</th>\n",
       "      <td>1.000000</td>\n",
       "      <td>1.000000</td>\n",
       "      <td>0.0</td>\n",
       "    </tr>\n",
       "    <tr>\n",
       "      <th>50%</th>\n",
       "      <td>1.000000</td>\n",
       "      <td>1.000000</td>\n",
       "      <td>0.0</td>\n",
       "    </tr>\n",
       "    <tr>\n",
       "      <th>75%</th>\n",
       "      <td>2.000000</td>\n",
       "      <td>2.000000</td>\n",
       "      <td>0.0</td>\n",
       "    </tr>\n",
       "    <tr>\n",
       "      <th>max</th>\n",
       "      <td>4.000000</td>\n",
       "      <td>6.000000</td>\n",
       "      <td>0.0</td>\n",
       "    </tr>\n",
       "  </tbody>\n",
       "</table>\n",
       "</div>"
      ],
      "text/plain": [
       "       number_dwellings  number_habitablerooms  rentpaid_shillings\n",
       "count      18080.000000           18080.000000             18080.0\n",
       "mean           1.322400               1.398451                 0.0\n",
       "std            0.557136               0.667266                 0.0\n",
       "min            1.000000               1.000000                 0.0\n",
       "25%            1.000000               1.000000                 0.0\n",
       "50%            1.000000               1.000000                 0.0\n",
       "75%            2.000000               2.000000                 0.0\n",
       "max            4.000000               6.000000                 0.0"
      ]
     },
     "execution_count": 102,
     "metadata": {},
     "output_type": "execute_result"
    }
   ],
   "source": [
    "Household2.describe()"
   ]
  },
  {
   "cell_type": "code",
   "execution_count": 103,
   "metadata": {},
   "outputs": [
    {
     "data": {
      "text/plain": [
       "s1q2                                    123\n",
       "number_dwellings                          0\n",
       "number_habitablerooms                     0\n",
       "floor_material                            0\n",
       "roof_material                             0\n",
       "wall_material                             0\n",
       "drikingwater_source                       0\n",
       "drinkingwater_insufficientquanities       0\n",
       "toilet_type                               0\n",
       "share_toilet                           6931\n",
       "lighting_source                           0\n",
       "payrent_dwelling                          0\n",
       "rentpaid_shillings                        0\n",
       "own_radio                                 0\n",
       "own_television                            0\n",
       "own_satelitedish                          0\n",
       "own_smartphone                            0\n",
       "own_refrigerator                          0\n",
       "own_table                                 0\n",
       "own_bed                                   0\n",
       "own_mattress                              0\n",
       "own_mosquitonet                           0\n",
       "own_fan                                   0\n",
       "own_bicycle                               0\n",
       "own_motorcycle                            0\n",
       "own_car                                   0\n",
       "own_generator                             0\n",
       "own_solarpanels                           0\n",
       "own_kerosenestove                         0\n",
       "own_charcoaljiko                          0\n",
       "own_wheelbarrow                           0\n",
       "own_ironfencing                           0\n",
       "own_farmanimals                           0\n",
       "relatives_abroad                          0\n",
       "relatives_outsidekenya                    0\n",
       "own_bankaccount                           0\n",
       "borrowedfrom_sources12mo                  0\n",
       "borrowedfrom_bank12mo                     0\n",
       "borrowedfrom_community                    0\n",
       "borrowedfrom_familyorfriends12mo          0\n",
       "remittances_abroad                        0\n",
       "purchased_insurance                       0\n",
       "childunder5_death5yrs                   592\n",
       "sellhhgoods_lackfood                      0\n",
       "healthandeduc_reduction                   0\n",
       "sellassets_lackfood                       0\n",
       "spendsavings:lackfood                     0\n",
       "borrowmoneyfood_lackfood                  0\n",
       "sellhouseland_lackfood                    0\n",
       "withdrawchildrenschool_lackfood           0\n",
       "sellanimals:lackfood                      0\n",
       "sellfemaleanimal_last                     0\n",
       "beg_lackfood                              0\n",
       "dtype: int64"
      ]
     },
     "execution_count": 103,
     "metadata": {},
     "output_type": "execute_result"
    }
   ],
   "source": [
    "#Only 3 variables have missing values \n",
    "Household2.isnull().sum()"
   ]
  },
  {
   "cell_type": "code",
   "execution_count": 32,
   "metadata": {},
   "outputs": [
    {
     "data": {
      "text/plain": [
       "<seaborn.axisgrid.FacetGrid at 0x11fec4970>"
      ]
     },
     "execution_count": 32,
     "metadata": {},
     "output_type": "execute_result"
    },
    {
     "data": {
      "image/png": "[encoded data removed]",
      "text/plain": [
       "<Figure size 360x360 with 1 Axes>"
      ]
     },
     "metadata": {
      "needs_background": "light"
     },
     "output_type": "display_data"
    }
   ],
   "source": [
    "#box plot of numeric values \n",
    "sns.catplot(data= Household2, orient=\"h\", kind=\"box\")"
   ]
  },
  {
   "cell_type": "code",
   "execution_count": 43,
   "metadata": {},
   "outputs": [
    {
     "data": {
      "text/plain": [
       "<matplotlib.axes._subplots.AxesSubplot at 0x122810400>"
      ]
     },
     "execution_count": 43,
     "metadata": {},
     "output_type": "execute_result"
    },
    {
     "data": {
      "image/png": "[encoded data removed]",
      "text/plain": [
       "<Figure size 432x288 with 1 Axes>"
      ]
     },
     "metadata": {
      "needs_background": "light"
     },
     "output_type": "display_data"
    }
   ],
   "source": [
    "#Example of begging for food based on village \n",
    "sns.countplot(x=\"number_dwellings\", hue=\"s1q2\", data= Household2)"
   ]
  },
  {
   "cell_type": "code",
   "execution_count": 46,
   "metadata": {},
   "outputs": [
    {
     "data": {
      "text/plain": [
       "s1q2\n",
       "Village 1    1.164713\n",
       "Village 2    1.464854\n",
       "Village 3    1.352202\n",
       "Name: number_dwellings, dtype: float64"
      ]
     },
     "execution_count": 46,
     "metadata": {},
     "output_type": "execute_result"
    }
   ],
   "source": [
    "#Mean of number of dwellings and village \n",
    "Household2.groupby('s1q2')['number_dwellings'].mean()"
   ]
  },
  {
   "cell_type": "code",
   "execution_count": 44,
   "metadata": {},
   "outputs": [
    {
     "data": {
      "text/plain": [
       "<matplotlib.axes._subplots.AxesSubplot at 0x12249f400>"
      ]
     },
     "execution_count": 44,
     "metadata": {},
     "output_type": "execute_result"
    },
    {
     "data": {
      "image/png": "[encoded data removed]",
      "text/plain": [
       "<Figure size 432x288 with 1 Axes>"
      ]
     },
     "metadata": {
      "needs_background": "light"
     },
     "output_type": "display_data"
    }
   ],
   "source": [
    "#Graph count of habitable rooms and village \n",
    "sns.countplot(x=\"number_habitablerooms\", hue=\"s1q2\", data= Household2)"
   ]
  },
  {
   "cell_type": "code",
   "execution_count": 47,
   "metadata": {},
   "outputs": [
    {
     "data": {
      "text/plain": [
       "s1q2\n",
       "Village 1    1.251373\n",
       "Village 2    1.528117\n",
       "Village 3    1.428424\n",
       "Name: number_habitablerooms, dtype: float64"
      ]
     },
     "execution_count": 47,
     "metadata": {},
     "output_type": "execute_result"
    }
   ],
   "source": [
    "#Mean of habitable rooms and village \n",
    "Household2.groupby('s1q2')['number_habitablerooms'].mean()"
   ]
  },
  {
   "cell_type": "code",
   "execution_count": 95,
   "metadata": {},
   "outputs": [
    {
     "data": {
      "text/plain": [
       "<matplotlib.axes._subplots.AxesSubplot at 0x122e26e80>"
      ]
     },
     "execution_count": 95,
     "metadata": {},
     "output_type": "execute_result"
    },
    {
     "data": {
      "image/png": "[encoded data removed]",
      "text/plain": [
       "<Figure size 432x288 with 1 Axes>"
      ]
     },
     "metadata": {
      "needs_background": "light"
     },
     "output_type": "display_data"
    }
   ],
   "source": [
    "#Kept this just to see how I can altewr it. It is very hard to visualize \n",
    "sns.countplot(x=\"number_dwellings\", hue=\"hhsize_y\", data= MergedDatasetsRenamed)"
   ]
  },
  {
   "cell_type": "code",
   "execution_count": 96,
   "metadata": {},
   "outputs": [
    {
     "data": {
      "text/plain": [
       "hhsize_y\n",
       "1     1.029202\n",
       "2     1.046455\n",
       "3     1.054496\n",
       "4     1.062053\n",
       "5     1.141190\n",
       "6     1.258259\n",
       "7     1.472576\n",
       "8     1.607143\n",
       "9     1.755190\n",
       "10    1.846685\n",
       "11    1.611354\n",
       "12    2.112957\n",
       "13    1.926108\n",
       "14    2.010929\n",
       "15    2.260000\n",
       "17    1.521739\n",
       "19    2.000000\n",
       "21    2.000000\n",
       "Name: number_dwellings, dtype: float64"
      ]
     },
     "execution_count": 96,
     "metadata": {},
     "output_type": "execute_result"
    }
   ],
   "source": [
    "#Mean of household size and villagge\n",
    "MergedDatasetsRenamed.groupby('hhsize_y')['number_dwellings'].mean()"
   ]
  },
  {
   "cell_type": "code",
   "execution_count": 104,
   "metadata": {},
   "outputs": [
    {
     "data": {
      "text/plain": [
       "<seaborn.axisgrid.FacetGrid at 0x1225ec940>"
      ]
     },
     "execution_count": 104,
     "metadata": {},
     "output_type": "execute_result"
    },
    {
     "data": {
      "image/png": "[encoded data removed]",
      "text/plain": [
       "<Figure size 439.375x360 with 1 Axes>"
      ]
     },
     "metadata": {
      "needs_background": "light"
     },
     "output_type": "display_data"
    }
   ],
   "source": [
    "sns.lmplot(x='number_dwellings', y='number_habitablerooms',data= Household2, fit_reg = False, hue = 's1q2')"
   ]
  },
  {
   "cell_type": "code",
   "execution_count": null,
   "metadata": {},
   "outputs": [],
   "source": [
    "#Creating Dummy Variables for HH \n",
    "MergedDatasetsRenamed"
   ]
  }
 ],
 "metadata": {
  "kernelspec": {
   "display_name": "Python 3",
   "language": "python",
   "name": "python3"
  },
  "language_info": {
   "codemirror_mode": {
    "name": "ipython",
    "version": 3
   },
   "file_extension": ".py",
   "mimetype": "text/x-python",
   "name": "python",
   "nbconvert_exporter": "python",
   "pygments_lexer": "ipython3",
   "version": "3.8.3"
  }
 },
 "nbformat": 4,
 "nbformat_minor": 4
}
