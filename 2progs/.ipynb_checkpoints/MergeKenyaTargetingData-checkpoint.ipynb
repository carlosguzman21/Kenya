{
 "cells": [
  {
   "cell_type": "code",
   "execution_count": 1,
   "metadata": {},
   "outputs": [],
   "source": [
    "import numpy as np\n",
    "import pandas as pd"
   ]
  },
  {
   "cell_type": "code",
   "execution_count": 2,
   "metadata": {},
   "outputs": [],
   "source": [
    "Education = pd.read_csv('UNHCR-KEN-2018-SEA-Kalobeyei-Education.csv')\n",
    "Energy = pd.read_csv('UNHCR-KEN-2018-SEA-Kalobeyei-Energy.csv')\n",
    "Food = pd.read_csv('UNHCR-KEN-2018-SEA-Kalobeyei-Food.csv')\n",
    "Household = pd.read_csv('UNHCR-KEN-2018-SEA-Kalobeyei-Household.csv')\n",
    "Member = pd.read_csv('UNHCR-KEN-2018-SEA-Kalobeyei-Member.csv')\n",
    "Nonfood = pd.read_csv('UNHCR-KEN-2018-SEA-Kalobeyei-Nonfood.csv')"
   ]
  },
  {
   "cell_type": "code",
   "execution_count": 3,
   "metadata": {},
   "outputs": [
    {
     "data": {
      "text/plain": [
       "No            1092\n",
       "Don't Know       8\n",
       "Name: s12q20, dtype: int64"
      ]
     },
     "execution_count": 3,
     "metadata": {},
     "output_type": "execute_result"
    }
   ],
   "source": [
    "Energy['s12q20'].value_counts()"
   ]
  },
  {
   "cell_type": "code",
   "execution_count": 4,
   "metadata": {},
   "outputs": [],
   "source": [
    "Educ_Energy_merge = pd.merge(Education,Energy,how='inner',on='hhid')"
   ]
  },
  {
   "cell_type": "code",
   "execution_count": 5,
   "metadata": {},
   "outputs": [],
   "source": [
    "Educ_Energy_Food_merge =  pd.merge(Educ_Energy_merge,Food,how='inner',on='hhid')"
   ]
  },
  {
   "cell_type": "code",
   "execution_count": 6,
   "metadata": {},
   "outputs": [],
   "source": [
    "Educ_Energy_Food__HH_merge = pd.merge(Educ_Energy_Food_merge,Household,how='inner',on='hhid')"
   ]
  },
  {
   "cell_type": "code",
   "execution_count": 7,
   "metadata": {},
   "outputs": [],
   "source": [
    "Educ_Energy_Food__HH_Member_merge = pd.merge(Educ_Energy_Food__HH_merge,Member,how='inner',on='hhid')"
   ]
  },
  {
   "cell_type": "code",
   "execution_count": 8,
   "metadata": {},
   "outputs": [],
   "source": [
    "All_merge = pd.merge(Educ_Energy_Food__HH_Member_merge,Nonfood,how='inner',on='hhid')"
   ]
  },
  {
   "cell_type": "code",
   "execution_count": 10,
   "metadata": {},
   "outputs": [
    {
     "data": {
      "text/html": [
       "<div>\n",
       "<style scoped>\n",
       "    .dataframe tbody tr th:only-of-type {\n",
       "        vertical-align: middle;\n",
       "    }\n",
       "\n",
       "    .dataframe tbody tr th {\n",
       "        vertical-align: top;\n",
       "    }\n",
       "\n",
       "    .dataframe thead th {\n",
       "        text-align: right;\n",
       "    }\n",
       "</style>\n",
       "<table border=\"1\" class=\"dataframe\">\n",
       "  <thead>\n",
       "    <tr style=\"text-align: right;\">\n",
       "      <th></th>\n",
       "      <th>hhid</th>\n",
       "      <th>s1q2_x</th>\n",
       "      <th>s4q10</th>\n",
       "      <th>s4q11</th>\n",
       "      <th>s4q12</th>\n",
       "      <th>s4q13</th>\n",
       "      <th>s4q14</th>\n",
       "      <th>s4q15</th>\n",
       "      <th>s4q16</th>\n",
       "      <th>s4q17</th>\n",
       "      <th>...</th>\n",
       "      <th>mod_opt_y</th>\n",
       "      <th>item_name_y</th>\n",
       "      <th>g_recall</th>\n",
       "      <th>s12q9</th>\n",
       "      <th>s12q10</th>\n",
       "      <th>s12q11</th>\n",
       "      <th>nfcons_value</th>\n",
       "      <th>nfcons_value_capita</th>\n",
       "      <th>weight_y</th>\n",
       "      <th>popweight_y</th>\n",
       "    </tr>\n",
       "  </thead>\n",
       "  <tbody>\n",
       "    <tr>\n",
       "      <th>0</th>\n",
       "      <td>10</td>\n",
       "      <td>Village 1</td>\n",
       "      <td>0.0</td>\n",
       "      <td>0.0</td>\n",
       "      <td>2400.0</td>\n",
       "      <td>0.0</td>\n",
       "      <td>6000.0</td>\n",
       "      <td>3000.0</td>\n",
       "      <td>2000.000061</td>\n",
       "      <td>0.0</td>\n",
       "      <td>...</td>\n",
       "      <td>core</td>\n",
       "      <td>MEN'S TROUSERS</td>\n",
       "      <td>3 months</td>\n",
       "      <td>Yes</td>\n",
       "      <td>38.8889</td>\n",
       "      <td>Yes</td>\n",
       "      <td>38.88889</td>\n",
       "      <td>7.777778</td>\n",
       "      <td>5.557168</td>\n",
       "      <td>27.78584</td>\n",
       "    </tr>\n",
       "    <tr>\n",
       "      <th>1</th>\n",
       "      <td>10</td>\n",
       "      <td>Village 1</td>\n",
       "      <td>0.0</td>\n",
       "      <td>0.0</td>\n",
       "      <td>2400.0</td>\n",
       "      <td>0.0</td>\n",
       "      <td>6000.0</td>\n",
       "      <td>3000.0</td>\n",
       "      <td>2000.000061</td>\n",
       "      <td>0.0</td>\n",
       "      <td>...</td>\n",
       "      <td>core</td>\n",
       "      <td>WOMEN'S RUBBER SANDALS/SLIPPERS</td>\n",
       "      <td>3 months</td>\n",
       "      <td>Yes</td>\n",
       "      <td>23.3333</td>\n",
       "      <td>Yes</td>\n",
       "      <td>23.33333</td>\n",
       "      <td>4.666667</td>\n",
       "      <td>5.557168</td>\n",
       "      <td>27.78584</td>\n",
       "    </tr>\n",
       "    <tr>\n",
       "      <th>2</th>\n",
       "      <td>10</td>\n",
       "      <td>Village 1</td>\n",
       "      <td>0.0</td>\n",
       "      <td>0.0</td>\n",
       "      <td>2400.0</td>\n",
       "      <td>0.0</td>\n",
       "      <td>6000.0</td>\n",
       "      <td>3000.0</td>\n",
       "      <td>2000.000061</td>\n",
       "      <td>0.0</td>\n",
       "      <td>...</td>\n",
       "      <td>option 1</td>\n",
       "      <td>MEN'S RUBBER SANDALS/SLIPPERS</td>\n",
       "      <td>3 months</td>\n",
       "      <td>Yes</td>\n",
       "      <td>23.3333</td>\n",
       "      <td>Yes</td>\n",
       "      <td>23.33333</td>\n",
       "      <td>4.666667</td>\n",
       "      <td>5.557168</td>\n",
       "      <td>27.78584</td>\n",
       "    </tr>\n",
       "    <tr>\n",
       "      <th>3</th>\n",
       "      <td>10</td>\n",
       "      <td>Village 1</td>\n",
       "      <td>0.0</td>\n",
       "      <td>0.0</td>\n",
       "      <td>2400.0</td>\n",
       "      <td>0.0</td>\n",
       "      <td>6000.0</td>\n",
       "      <td>3000.0</td>\n",
       "      <td>2000.000061</td>\n",
       "      <td>0.0</td>\n",
       "      <td>...</td>\n",
       "      <td>core</td>\n",
       "      <td>BOY'S TROUSERS/SHORTS</td>\n",
       "      <td>3 months</td>\n",
       "      <td>Yes</td>\n",
       "      <td>23.3333</td>\n",
       "      <td>Yes</td>\n",
       "      <td>23.33333</td>\n",
       "      <td>4.666667</td>\n",
       "      <td>5.557168</td>\n",
       "      <td>27.78584</td>\n",
       "    </tr>\n",
       "    <tr>\n",
       "      <th>4</th>\n",
       "      <td>10</td>\n",
       "      <td>Village 1</td>\n",
       "      <td>0.0</td>\n",
       "      <td>0.0</td>\n",
       "      <td>2400.0</td>\n",
       "      <td>0.0</td>\n",
       "      <td>6000.0</td>\n",
       "      <td>3000.0</td>\n",
       "      <td>2000.000061</td>\n",
       "      <td>0.0</td>\n",
       "      <td>...</td>\n",
       "      <td>core</td>\n",
       "      <td>WATER- WATER SERVICE PROVIDER</td>\n",
       "      <td>1 month</td>\n",
       "      <td>No</td>\n",
       "      <td>NaN</td>\n",
       "      <td>Yes</td>\n",
       "      <td>0.00000</td>\n",
       "      <td>0.000000</td>\n",
       "      <td>5.557168</td>\n",
       "      <td>27.78584</td>\n",
       "    </tr>\n",
       "  </tbody>\n",
       "</table>\n",
       "<p>5 rows × 266 columns</p>\n",
       "</div>"
      ],
      "text/plain": [
       "   hhid     s1q2_x  s4q10  s4q11   s4q12  s4q13   s4q14   s4q15        s4q16  \\\n",
       "0    10  Village 1    0.0    0.0  2400.0    0.0  6000.0  3000.0  2000.000061   \n",
       "1    10  Village 1    0.0    0.0  2400.0    0.0  6000.0  3000.0  2000.000061   \n",
       "2    10  Village 1    0.0    0.0  2400.0    0.0  6000.0  3000.0  2000.000061   \n",
       "3    10  Village 1    0.0    0.0  2400.0    0.0  6000.0  3000.0  2000.000061   \n",
       "4    10  Village 1    0.0    0.0  2400.0    0.0  6000.0  3000.0  2000.000061   \n",
       "\n",
       "   s4q17  ...  mod_opt_y                      item_name_y  g_recall  s12q9  \\\n",
       "0    0.0  ...       core                   MEN'S TROUSERS  3 months    Yes   \n",
       "1    0.0  ...       core  WOMEN'S RUBBER SANDALS/SLIPPERS  3 months    Yes   \n",
       "2    0.0  ...   option 1    MEN'S RUBBER SANDALS/SLIPPERS  3 months    Yes   \n",
       "3    0.0  ...       core            BOY'S TROUSERS/SHORTS  3 months    Yes   \n",
       "4    0.0  ...       core    WATER- WATER SERVICE PROVIDER   1 month     No   \n",
       "\n",
       "    s12q10  s12q11  nfcons_value  nfcons_value_capita  weight_y  popweight_y  \n",
       "0  38.8889     Yes      38.88889             7.777778  5.557168     27.78584  \n",
       "1  23.3333     Yes      23.33333             4.666667  5.557168     27.78584  \n",
       "2  23.3333     Yes      23.33333             4.666667  5.557168     27.78584  \n",
       "3  23.3333     Yes      23.33333             4.666667  5.557168     27.78584  \n",
       "4      NaN     Yes       0.00000             0.000000  5.557168     27.78584  \n",
       "\n",
       "[5 rows x 266 columns]"
      ]
     },
     "execution_count": 10,
     "metadata": {},
     "output_type": "execute_result"
    }
   ],
   "source": [
    "All_merge.head(5)"
   ]
  },
  {
   "cell_type": "code",
   "execution_count": null,
   "metadata": {},
   "outputs": [],
   "source": []
  }
 ],
 "metadata": {
  "kernelspec": {
   "display_name": "Python 3",
   "language": "python",
   "name": "python3"
  },
  "language_info": {
   "codemirror_mode": {
    "name": "ipython",
    "version": 3
   },
   "file_extension": ".py",
   "mimetype": "text/x-python",
   "name": "python",
   "nbconvert_exporter": "python",
   "pygments_lexer": "ipython3",
   "version": "3.7.6"
  }
 },
 "nbformat": 4,
 "nbformat_minor": 4
}
